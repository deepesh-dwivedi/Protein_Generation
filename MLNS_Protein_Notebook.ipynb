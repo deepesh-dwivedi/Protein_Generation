{
  "nbformat": 4,
  "nbformat_minor": 0,
  "metadata": {
    "colab": {
      "provenance": []
    },
    "kernelspec": {
      "name": "python3",
      "display_name": "Python 3"
    },
    "language_info": {
      "name": "python"
    }
  },
  "cells": [
    {
      "cell_type": "code",
      "source": [],
      "metadata": {
        "id": "U1ExvYZ_AceF"
      },
      "execution_count": null,
      "outputs": []
    },
    {
      "cell_type": "code",
      "execution_count": 3,
      "metadata": {
        "colab": {
          "base_uri": "https://localhost:8080/"
        },
        "outputId": "43bedf7c-7952-4d11-ef43-b98ebb8dfc53",
        "id": "Sr3QPfGR-vvE"
      },
      "outputs": [
        {
          "output_type": "stream",
          "name": "stdout",
          "text": [
            "Looking in indexes: https://pypi.org/simple, https://us-python.pkg.dev/colab-wheels/public/simple/\n",
            "Requirement already satisfied: dgl in /usr/local/lib/python3.9/dist-packages (1.0.1)\n",
            "Requirement already satisfied: networkx>=2.1 in /usr/local/lib/python3.9/dist-packages (from dgl) (3.1)\n",
            "Requirement already satisfied: psutil>=5.8.0 in /usr/local/lib/python3.9/dist-packages (from dgl) (5.9.5)\n",
            "Requirement already satisfied: tqdm in /usr/local/lib/python3.9/dist-packages (from dgl) (4.65.0)\n",
            "Requirement already satisfied: numpy>=1.14.0 in /usr/local/lib/python3.9/dist-packages (from dgl) (1.22.4)\n",
            "Requirement already satisfied: scipy>=1.1.0 in /usr/local/lib/python3.9/dist-packages (from dgl) (1.10.1)\n",
            "Requirement already satisfied: requests>=2.19.0 in /usr/local/lib/python3.9/dist-packages (from dgl) (2.27.1)\n",
            "Requirement already satisfied: urllib3<1.27,>=1.21.1 in /usr/local/lib/python3.9/dist-packages (from requests>=2.19.0->dgl) (1.26.15)\n",
            "Requirement already satisfied: charset-normalizer~=2.0.0 in /usr/local/lib/python3.9/dist-packages (from requests>=2.19.0->dgl) (2.0.12)\n",
            "Requirement already satisfied: certifi>=2017.4.17 in /usr/local/lib/python3.9/dist-packages (from requests>=2.19.0->dgl) (2022.12.7)\n",
            "Requirement already satisfied: idna<4,>=2.5 in /usr/local/lib/python3.9/dist-packages (from requests>=2.19.0->dgl) (3.4)\n"
          ]
        }
      ],
      "source": [
        "! pip install dgl"
      ]
    },
    {
      "cell_type": "code",
      "execution_count": 4,
      "metadata": {
        "id": "vRJR5zYU-vvE"
      },
      "outputs": [],
      "source": [
        "# Import packages\n",
        "import dgl\n",
        "import torch\n",
        "import torch.nn.functional as F\n",
        "import numpy as np\n",
        "from dgl.dataloading import GraphDataLoader\n",
        "from dgl.nn import GraphConv\n",
        "from IPython.display import Latex\n",
        "from sklearn.model_selection import train_test_split"
      ]
    },
    {
      "cell_type": "code",
      "execution_count": 5,
      "metadata": {
        "id": "IX1ByyHPxbMm"
      },
      "outputs": [],
      "source": [
        "'''\n",
        "class BasicGraphModel(torch.nn.Module):\n",
        "\n",
        "    def __init__(self, n_layers, input_size, hidden_size, output_size):\n",
        "        super(BasicGraphModel, self).__init__()\n",
        "\n",
        "        # Define GNN components\n",
        "        self.convs = torch.nn.ModuleList()\n",
        "        self.convs.append(GraphConv(input_size, hidden_size))\n",
        "        for i in range(n_layers-1):\n",
        "            self.convs.append(GraphConv(hidden_size, hidden_size))\n",
        "        self.linear = torch.nn.Linear(hidden_size, output_size)\n",
        "\n",
        "    def forward(self, g, x):\n",
        "        # Message Passing -- Learn node representations via GCN\n",
        "        for conv in self.convs[:-1]:\n",
        "            x = conv(g, x)\n",
        "            x = F.elu(x)\n",
        "        x = self.convs[-1](g, x)\n",
        "        # Readout -- average all node representations to get graph embedding\n",
        "        g.ndata['h'] = x\n",
        "        x = dgl.mean_nodes(g, 'h')\n",
        "        # Apply linear layer to classify graph representation\n",
        "        x = self.linear(x)\n",
        "        return x\n",
        "'''\n",
        "class BasicGraphModel(torch.nn.Module):\n",
        "\n",
        "    def __init__(self, n_layers, input_size, hidden_size, output_size):\n",
        "        super(BasicGraphModel, self).__init__()\n",
        "\n",
        "        # Define GNN components\n",
        "        self.convs = torch.nn.ModuleList()\n",
        "        self.convs.append(GraphConv(input_size, hidden_size))\n",
        "        for i in range(n_layers-1):\n",
        "            self.convs.append(GraphConv(hidden_size, hidden_size))\n",
        "        self.linear = torch.nn.Linear(hidden_size, output_size)\n",
        "\n",
        "    def forward(self, g, x):\n",
        "        # Message Passing -- Learn node representations via GCN\n",
        "        for conv in self.convs[:-1]:\n",
        "            x = conv(g, x)\n",
        "            x = F.leaky_relu(x)\n",
        "        x = self.convs[-1](g, x)\n",
        "        # Readout -- average all node representations to get graph embedding\n",
        "        g.ndata['h'] = x\n",
        "        x = dgl.mean_nodes(g, 'h')\n",
        "        # Apply linear layer to classify graph representation\n",
        "        x = self.linear(x)\n",
        "        return x\n"
      ]
    },
    {
      "cell_type": "code",
      "execution_count": 6,
      "metadata": {
        "colab": {
          "base_uri": "https://localhost:8080/"
        },
        "id": "Jp9iSMvoElZn",
        "outputId": "0c622213-0169-4cda-a40f-9b39691d36c0"
      },
      "outputs": [
        {
          "output_type": "stream",
          "name": "stdout",
          "text": [
            "Downloading /root/.dgl/PROTEINS.zip from https://www.chrsmrrs.com/graphkerneldatasets/PROTEINS.zip...\n",
            "Extracting file to /root/.dgl/PROTEINS\n"
          ]
        }
      ],
      "source": [
        "dataset_proteins = dgl.data.TUDataset(name='PROTEINS')\n",
        "\n",
        "# Add self loop to each graph\n",
        "dataset_proteins.graph_lists = [dgl.add_self_loop(graph) for graph in dataset_proteins.graph_lists]"
      ]
    },
    {
      "cell_type": "code",
      "execution_count": 7,
      "metadata": {
        "colab": {
          "base_uri": "https://localhost:8080/"
        },
        "id": "JbnZitMKElZn",
        "outputId": "b554a551-9113-461c-917d-67fb66515601"
      },
      "outputs": [
        {
          "output_type": "execute_result",
          "data": {
            "text/plain": [
              "(Graph(num_nodes=42, num_edges=204,\n",
              "       ndata_schemes={'node_labels': Scheme(shape=(1,), dtype=torch.int64), 'node_attr': Scheme(shape=(1,), dtype=torch.float64), '_ID': Scheme(shape=(), dtype=torch.int64)}\n",
              "       edata_schemes={'_ID': Scheme(shape=(), dtype=torch.int64)}),\n",
              " tensor([0]))"
            ]
          },
          "metadata": {},
          "execution_count": 7
        }
      ],
      "source": [
        "dataset_proteins[0]"
      ]
    },
    {
      "cell_type": "code",
      "execution_count": 8,
      "metadata": {
        "colab": {
          "base_uri": "https://localhost:8080/"
        },
        "id": "PLl_papjElZo",
        "outputId": "5cac719e-fc61-4420-b930-35ac2a7e5d9a"
      },
      "outputs": [
        {
          "output_type": "stream",
          "name": "stdout",
          "text": [
            "Number of graph categories: 2\n",
            "Dimension of nodes features 1\n"
          ]
        }
      ],
      "source": [
        "print('Number of graph categories:', dataset_proteins.num_labels)\n",
        "print('Dimension of nodes features', dataset_proteins[0][0].ndata['node_attr'].shape[1])"
      ]
    },
    {
      "cell_type": "code",
      "execution_count": 9,
      "metadata": {
        "id": "3EQedI7NElZo"
      },
      "outputs": [],
      "source": [
        "# Split dataset into train, validation and test sets\n",
        "train_sampler, val_sampler, test_sampler = dgl.data.utils.split_dataset(\n",
        "        dataset_proteins, frac_list=[0.6, 0.2, 0.2], shuffle=True)"
      ]
    },
    {
      "cell_type": "code",
      "execution_count": 10,
      "metadata": {
        "id": "R0FwZN4aElZo"
      },
      "outputs": [],
      "source": [
        "# batch graphs with GraphDataLoader\n",
        "train_dataloader = GraphDataLoader(\n",
        "        train_sampler, batch_size=5, drop_last=False)\n",
        "val_dataloader = GraphDataLoader(\n",
        "    val_sampler, batch_size=5, drop_last=False)\n",
        "test_dataloader = GraphDataLoader(\n",
        "    test_sampler, batch_size=5, drop_last=False)"
      ]
    },
    {
      "cell_type": "code",
      "execution_count": 12,
      "metadata": {
        "id": "u3BkZRSpxbMm"
      },
      "outputs": [],
      "source": [
        "def train(model, loss_fcn, optimizer, train_dataloader, val_dataloader, num_epochs):\n",
        "    model = model.double()\n",
        "    model.train()\n",
        "\n",
        "    for epoch in range(num_epochs):\n",
        "        losses = []\n",
        "        for batch, batched_graph in enumerate(train_dataloader):\n",
        "            batched_graph, labels = batched_graph\n",
        "            logits = model(batched_graph, batched_graph.ndata['node_attr'].double())\n",
        "            loss = loss_fcn(logits, labels.T[0])\n",
        "            optimizer.zero_grad()\n",
        "            loss.backward()\n",
        "            optimizer.step()\n",
        "            losses.append(loss.item())\n",
        "        loss_data = np.mean(losses)\n",
        "\n",
        "        if epoch % 5 == 0:\n",
        "            print(\"Epoch {} | Loss: {:.4f}\".format(epoch, loss_data))\n",
        "            test(model, loss_fcn, val_dataloader)"
      ]
    },
    {
      "cell_type": "code",
      "execution_count": 13,
      "metadata": {
        "id": "bEl3rCa3xbMm"
      },
      "outputs": [],
      "source": [
        "def test(model, loss_fcn, dataloader):\n",
        "    scores = []\n",
        "    for batch, batched_graph in enumerate(dataloader):\n",
        "        batched_graph, labels = batched_graph\n",
        "        scores.append(\n",
        "            evaluate(model, batched_graph, labels, loss_fcn))\n",
        "    mean_scores = np.mean(scores)\n",
        "    print(\"Accuracy score: {:.4f}\".format(mean_scores))"
      ]
    },
    {
      "cell_type": "code",
      "execution_count": 14,
      "metadata": {
        "id": "CeIVMfNexbMm"
      },
      "outputs": [],
      "source": [
        "def evaluate(model, batched_graph, labels, loss_fcn):\n",
        "    model = model.double()\n",
        "    model.eval()\n",
        "    with torch.no_grad():\n",
        "        output = model(batched_graph, batched_graph.ndata['node_attr'].double())\n",
        "\n",
        "    labels = labels.T[0]\n",
        "    loss = loss_fcn(output, labels)\n",
        "    predict = output.argmax(dim=1)\n",
        "    score = (labels == predict).sum().item() / len(labels)\n",
        "\n",
        "    return score"
      ]
    },
    {
      "cell_type": "code",
      "execution_count": 15,
      "metadata": {
        "colab": {
          "base_uri": "https://localhost:8080/"
        },
        "id": "195A9BYOE43U",
        "outputId": "01b2b1e1-7ffc-4ec2-fc2b-48138f7f6004"
      },
      "outputs": [
        {
          "output_type": "stream",
          "name": "stderr",
          "text": [
            "/usr/local/lib/python3.9/dist-packages/dgl/backend/pytorch/tensor.py:445: UserWarning: TypedStorage is deprecated. It will be removed in the future and UntypedStorage will be the only storage class. This should only matter to you if you are using storages directly.  To access UntypedStorage directly, use tensor.untyped_storage() instead of tensor.storage()\n",
            "  assert input.numel() == input.storage().size(), (\n"
          ]
        },
        {
          "output_type": "stream",
          "name": "stdout",
          "text": [
            "Epoch 0 | Loss: 0.6805\n",
            "Accuracy score: 0.5511\n",
            "Epoch 5 | Loss: 0.6684\n",
            "Accuracy score: 0.5556\n",
            "Epoch 10 | Loss: 0.6557\n",
            "Accuracy score: 0.5956\n",
            "Epoch 15 | Loss: 0.6482\n",
            "Accuracy score: 0.6044\n",
            "Epoch 20 | Loss: 0.6378\n",
            "Accuracy score: 0.6578\n",
            "Epoch 25 | Loss: 0.6354\n",
            "Accuracy score: 0.6578\n",
            "Epoch 30 | Loss: 0.6339\n",
            "Accuracy score: 0.6578\n",
            "Epoch 35 | Loss: 0.6335\n",
            "Accuracy score: 0.6267\n",
            "Epoch 40 | Loss: 0.6324\n",
            "Accuracy score: 0.6178\n",
            "Epoch 45 | Loss: 0.6319\n",
            "Accuracy score: 0.6178\n",
            "Epoch 50 | Loss: 0.6308\n",
            "Accuracy score: 0.6089\n",
            "Epoch 55 | Loss: 0.6314\n",
            "Accuracy score: 0.6044\n",
            "Epoch 60 | Loss: 0.6294\n",
            "Accuracy score: 0.6089\n",
            "Epoch 65 | Loss: 0.6288\n",
            "Accuracy score: 0.6133\n",
            "Epoch 70 | Loss: 0.6280\n",
            "Accuracy score: 0.6222\n",
            "Epoch 75 | Loss: 0.6266\n",
            "Accuracy score: 0.6178\n",
            "Epoch 80 | Loss: 0.6260\n",
            "Accuracy score: 0.6222\n",
            "Epoch 85 | Loss: 0.6261\n",
            "Accuracy score: 0.6311\n",
            "Epoch 90 | Loss: 0.6259\n",
            "Accuracy score: 0.6178\n",
            "Epoch 95 | Loss: 0.6248\n",
            "Accuracy score: 0.6133\n",
            "Epoch 100 | Loss: 0.6257\n",
            "Accuracy score: 0.6267\n",
            "Epoch 105 | Loss: 0.6242\n",
            "Accuracy score: 0.6178\n",
            "Epoch 110 | Loss: 0.6222\n",
            "Accuracy score: 0.6178\n",
            "Epoch 115 | Loss: 0.6266\n",
            "Accuracy score: 0.6222\n",
            "Epoch 120 | Loss: 0.6260\n",
            "Accuracy score: 0.6222\n",
            "Epoch 125 | Loss: 0.6267\n",
            "Accuracy score: 0.6222\n",
            "Epoch 130 | Loss: 0.6203\n",
            "Accuracy score: 0.6267\n",
            "Epoch 135 | Loss: 0.6195\n",
            "Accuracy score: 0.6222\n",
            "Epoch 140 | Loss: 0.6205\n",
            "Accuracy score: 0.6267\n",
            "Epoch 145 | Loss: 0.6183\n",
            "Accuracy score: 0.6311\n",
            "Accuracy score: 0.6789\n"
          ]
        }
      ],
      "source": [
        "# Store features\n",
        "n_features, n_classes = dataset_proteins[0][0].ndata['node_attr'].shape[1], \\\n",
        "    dataset_proteins.num_labels\n",
        "hidden_size = 64\n",
        "\n",
        "# Define model, loss function and optimizer\n",
        "model = BasicGraphModel(n_layers=5, input_size=n_features,\n",
        "                        hidden_size=hidden_size, output_size=n_classes)\n",
        "optimizer = torch.optim.Adam(model.parameters(), lr=0.001)\n",
        "loss_fcn = torch.nn.CrossEntropyLoss()\n",
        "\n",
        "# Train and test\n",
        "train(model, loss_fcn, optimizer,\n",
        "        train_dataloader, val_dataloader, num_epochs=150)\n",
        "test(model, loss_fcn, test_dataloader)\n"
      ]
    },
    {
      "cell_type": "code",
      "source": [
        "import torch\n",
        "\n",
        "!pip uninstall torch-scatter torch-sparse torch-geometric torch-cluster  --y\n",
        "!pip install torch-scatter -f https://data.pyg.org/whl/torch-{torch.__version__}.html\n",
        "!pip install torch-sparse -f https://data.pyg.org/whl/torch-{torch.__version__}.html\n",
        "!pip install torch-cluster -f https://data.pyg.org/whl/torch-{torch.__version__}.html\n",
        "!pip install git+https://github.com/pyg-team/pytorch_geometric.git"
      ],
      "metadata": {
        "id": "-jBiaoWMAHR4"
      },
      "execution_count": null,
      "outputs": []
    },
    {
      "cell_type": "code",
      "execution_count": null,
      "metadata": {
        "id": "gdcE2Uop8K_z"
      },
      "outputs": [],
      "source": [
        "import torch\n",
        "import torch.nn.functional as F\n",
        "from torch_geometric.nn import global_mean_pool as gap, global_max_pool as gmp\n",
        "from torch_geometric.nn import GCNConv\n",
        "\n",
        "from layers import GCN, HGPSLPool\n",
        "\n",
        "\n",
        "class Model(torch.nn.Module):\n",
        "    def __init__(self, args):\n",
        "        super(Model, self).__init__()\n",
        "        self.args = args\n",
        "        self.num_features = args.num_features\n",
        "        self.nhid = args.nhid\n",
        "        self.num_classes = args.num_classes\n",
        "        self.pooling_ratio = args.pooling_ratio\n",
        "        self.dropout_ratio = args.dropout_ratio\n",
        "        self.sample = args.sample_neighbor\n",
        "        self.sparse = args.sparse_attention\n",
        "        self.sl = args.structure_learning\n",
        "        self.lamb = args.lamb\n",
        "\n",
        "        self.conv1 = GCNConv(self.num_features, self.nhid)\n",
        "        self.conv2 = GCN(self.nhid, self.nhid)\n",
        "        self.conv3 = GCN(self.nhid, self.nhid)\n",
        "\n",
        "        self.pool1 = HGPSLPool(self.nhid, self.pooling_ratio, self.sample, self.sparse, self.sl, self.lamb)\n",
        "        self.pool2 = HGPSLPool(self.nhid, self.pooling_ratio, self.sample, self.sparse, self.sl, self.lamb)\n",
        "\n",
        "        self.lin1 = torch.nn.Linear(self.nhid * 2, self.nhid)\n",
        "        self.lin2 = torch.nn.Linear(self.nhid, self.nhid // 2)\n",
        "        self.lin3 = torch.nn.Linear(self.nhid // 2, self.num_classes)\n",
        "\n",
        "    def forward(self, data):\n",
        "        x, edge_index, batch = data.x, data.edge_index, data.batch\n",
        "        edge_attr = None\n",
        "\n",
        "        x = F.relu(self.conv1(x, edge_index, edge_attr))\n",
        "        x, edge_index, edge_attr, batch = self.pool1(x, edge_index, edge_attr, batch)\n",
        "        x1 = torch.cat([gmp(x, batch), gap(x, batch)], dim=1)\n",
        "\n",
        "        x = F.relu(self.conv2(x, edge_index, edge_attr))\n",
        "        x, edge_index, edge_attr, batch = self.pool2(x, edge_index, edge_attr, batch)\n",
        "        x2 = torch.cat([gmp(x, batch), gap(x, batch)], dim=1)\n",
        "\n",
        "        x = F.relu(self.conv3(x, edge_index, edge_attr))\n",
        "        x3 = torch.cat([gmp(x, batch), gap(x, batch)], dim=1)\n",
        "\n",
        "        x = F.relu(x1) + F.relu(x2) + F.relu(x3)\n",
        "\n",
        "        x = F.relu(self.lin1(x))\n",
        "        x = F.dropout(x, p=self.dropout_ratio, training=self.training)\n",
        "        x = F.relu(self.lin2(x))\n",
        "        x = F.dropout(x, p=self.dropout_ratio, training=self.training)\n",
        "        x = F.log_softmax(self.lin3(x), dim=-1)\n",
        "\n",
        "        return x"
      ]
    },
    {
      "cell_type": "code",
      "source": [
        "from torch_geometric.datasets import TUDataset\n",
        "from torch_geometric.transforms import AddSelfLoops\n",
        "\n",
        "# Replace 'PROTEINS' with the name of the dataset you want to use from TUDataset\n",
        "dataset_name = 'PROTEINS'\n",
        "dataset = TUDataset(root=f'./data/{dataset_name}', name=dataset_name)\n",
        "\n",
        "# Add self-loops to the edge_index\n",
        "dataset.transform = AddSelfLoops()\n"
      ],
      "metadata": {
        "id": "ciJms8Cfo9Jy"
      },
      "execution_count": null,
      "outputs": []
    },
    {
      "cell_type": "code",
      "source": [
        "from torch_geometric.data import DataLoader\n",
        "from sklearn.model_selection import train_test_split\n",
        "\n",
        "# Split the dataset into train and test sets\n",
        "train_dataset, test_dataset = train_test_split(dataset, test_size=0.1, random_state=42)\n",
        "\n",
        "# Create the DataLoader objects\n",
        "train_loader = DataLoader(train_dataset, batch_size=64, shuffle=True)\n",
        "test_loader = DataLoader(test_dataset, batch_size=64, shuffle=False)\n"
      ],
      "metadata": {
        "id": "i5K0Cwxge4Dp"
      },
      "execution_count": null,
      "outputs": []
    },
    {
      "cell_type": "code",
      "source": [
        "num_node_features = dataset.num_node_features\n",
        "num_classes = dataset.num_classes\n",
        "'''\n",
        "args = {\n",
        "    'num_features': num_node_features,\n",
        "    'nhid': 64,\n",
        "    'num_classes': num_classes,\n",
        "    'pooling_ratio': 0.5,\n",
        "    'dropout_ratio': 0.5,\n",
        "    'sample_neighbor': False,\n",
        "    'sparse_attention': False,\n",
        "    'structure_learning': False,\n",
        "    'lamb': 1.0\n",
        "}\n",
        "'''\n",
        "class Args:\n",
        "    def __init__(self, num_features, nhid, num_classes, pooling_ratio, dropout_ratio, sample_neighbor, sparse_attention, structure_learning, lamb):\n",
        "        self.num_features = num_features\n",
        "        self.nhid = nhid\n",
        "        self.num_classes = num_classes\n",
        "        self.pooling_ratio = pooling_ratio\n",
        "        self.dropout_ratio = dropout_ratio\n",
        "        self.sample_neighbor = sample_neighbor\n",
        "        self.sparse_attention = sparse_attention\n",
        "        self.structure_learning = structure_learning\n",
        "        self.lamb = lamb\n",
        "\n",
        "args = Args(\n",
        "    num_features=num_node_features,\n",
        "    nhid=64,\n",
        "    num_classes=num_classes,\n",
        "    pooling_ratio=0.5,\n",
        "    dropout_ratio=0.5,\n",
        "    sample_neighbor=False,\n",
        "    sparse_attention=False,\n",
        "    structure_learning=False,\n",
        "    lamb=1.0\n",
        ")"
      ],
      "metadata": {
        "id": "VUm26ypie6lQ"
      },
      "execution_count": null,
      "outputs": []
    },
    {
      "cell_type": "code",
      "source": [
        "device = torch.device('cuda' if torch.cuda.is_available() else 'cpu')\n",
        "model = Model(args).to(device)\n",
        "optimizer = torch.optim.Adam(model.parameters(), lr=0.01)\n",
        "criterion = torch.nn.NLLLoss()\n"
      ],
      "metadata": {
        "id": "oGcIZBbOe834"
      },
      "execution_count": null,
      "outputs": []
    },
    {
      "cell_type": "code",
      "source": [
        "def train():\n",
        "    model.train()\n",
        "    total_loss = 0\n",
        "    for data in train_loader:\n",
        "        data = data.to(device)\n",
        "        optimizer.zero_grad()\n",
        "        out = model(data)\n",
        "        loss = criterion(out, data.y)\n",
        "        loss.backward()\n",
        "        optimizer.step()\n",
        "        total_loss += loss.item() * data.num_graphs\n",
        "    return total_loss / len(train_dataset)\n",
        "\n",
        "def test(loader):\n",
        "    model.eval()\n",
        "    correct = 0\n",
        "    for data in loader:\n",
        "        data = data.to(device)\n",
        "        with torch.no_grad():\n",
        "            out = model(data)\n",
        "        pred = out.argmax(dim=1)\n",
        "        correct += (pred == data.y).sum().item()\n",
        "    return correct / len(loader.dataset)\n"
      ],
      "metadata": {
        "id": "avzfLpNke-2K"
      },
      "execution_count": null,
      "outputs": []
    },
    {
      "cell_type": "code",
      "source": [
        "import matplotlib.pyplot as plt\n",
        "\n",
        "def plot_graphs(train_losses, train_accuracies, test_accuracies):\n",
        "    epochs = range(1, len(train_losses) + 1)\n",
        "\n",
        "    plt.figure()\n",
        "    plt.plot(epochs, train_losses, label='Training Loss')\n",
        "    plt.xlabel('Epochs')\n",
        "    plt.ylabel('Loss')\n",
        "    plt.legend()\n",
        "    plt.title('Training Loss per Epoch')\n",
        "    plt.show()\n",
        "\n",
        "    plt.figure()\n",
        "    plt.plot(epochs, train_accuracies, label='Training Accuracy')\n",
        "    plt.plot(epochs, test_accuracies, label='Testing Accuracy')\n",
        "    plt.xlabel('Epochs')\n",
        "    plt.ylabel('Accuracy')\n",
        "    plt.legend()\n",
        "    plt.title('Training and Testing Accuracy per Epoch')\n",
        "    plt.show()\n",
        "\n",
        "# Training loop\n",
        "train_losses = []\n",
        "train_accuracies = []\n",
        "test_accuracies = []\n",
        "\n",
        "epochs = 100\n",
        "for epoch in range(epochs):\n",
        "    train_loss = train()\n",
        "    train_acc = test(train_loader)\n",
        "    test_acc = test(test_loader)\n",
        "\n",
        "    train_losses.append(train_loss)\n",
        "    train_accuracies.append(train_acc)\n",
        "    test_accuracies.append(test_acc)\n",
        "\n",
        "    print(f'Epoch: {epoch+1}, Train Loss: {train_loss:.4f}, Train Acc: {train_acc:.4f}, Test Acc: {test_acc:.4f}')\n",
        "\n",
        "# Plot graphs\n",
        "plot_graphs(train_losses, train_accuracies, test_accuracies)\n"
      ],
      "metadata": {
        "colab": {
          "base_uri": "https://localhost:8080/",
          "height": 1000
        },
        "id": "l7VpGoSUfi6B",
        "outputId": "4bab1231-35fb-4ff8-d093-b731a7bf09e7"
      },
      "execution_count": null,
      "outputs": [
        {
          "output_type": "stream",
          "name": "stdout",
          "text": [
            "Epoch: 1, Train Loss: 0.6862, Train Acc: 0.5964, Test Acc: 0.5893\n",
            "Epoch: 2, Train Loss: 0.6402, Train Acc: 0.7153, Test Acc: 0.6875\n",
            "Epoch: 3, Train Loss: 0.6132, Train Acc: 0.7403, Test Acc: 0.7589\n",
            "Epoch: 4, Train Loss: 0.5962, Train Acc: 0.7363, Test Acc: 0.7411\n",
            "Epoch: 5, Train Loss: 0.5816, Train Acc: 0.7263, Test Acc: 0.7143\n",
            "Epoch: 6, Train Loss: 0.5928, Train Acc: 0.6993, Test Acc: 0.6964\n",
            "Epoch: 7, Train Loss: 0.6023, Train Acc: 0.7213, Test Acc: 0.7589\n",
            "Epoch: 8, Train Loss: 0.5887, Train Acc: 0.7353, Test Acc: 0.7143\n",
            "Epoch: 9, Train Loss: 0.5792, Train Acc: 0.7343, Test Acc: 0.7679\n",
            "Epoch: 10, Train Loss: 0.5710, Train Acc: 0.7403, Test Acc: 0.7321\n",
            "Epoch: 11, Train Loss: 0.5840, Train Acc: 0.7303, Test Acc: 0.7411\n",
            "Epoch: 12, Train Loss: 0.5777, Train Acc: 0.7343, Test Acc: 0.7500\n",
            "Epoch: 13, Train Loss: 0.5848, Train Acc: 0.7383, Test Acc: 0.7411\n",
            "Epoch: 14, Train Loss: 0.5641, Train Acc: 0.7393, Test Acc: 0.7589\n",
            "Epoch: 15, Train Loss: 0.5699, Train Acc: 0.7373, Test Acc: 0.7500\n",
            "Epoch: 16, Train Loss: 0.5803, Train Acc: 0.7413, Test Acc: 0.7321\n",
            "Epoch: 17, Train Loss: 0.5762, Train Acc: 0.7383, Test Acc: 0.7500\n",
            "Epoch: 18, Train Loss: 0.5740, Train Acc: 0.7193, Test Acc: 0.6696\n",
            "Epoch: 19, Train Loss: 0.5664, Train Acc: 0.7403, Test Acc: 0.7321\n",
            "Epoch: 20, Train Loss: 0.5613, Train Acc: 0.7353, Test Acc: 0.7143\n",
            "Epoch: 21, Train Loss: 0.5689, Train Acc: 0.7203, Test Acc: 0.7321\n",
            "Epoch: 22, Train Loss: 0.5692, Train Acc: 0.7333, Test Acc: 0.7589\n",
            "Epoch: 23, Train Loss: 0.5531, Train Acc: 0.7393, Test Acc: 0.7321\n",
            "Epoch: 24, Train Loss: 0.5562, Train Acc: 0.7393, Test Acc: 0.7143\n",
            "Epoch: 25, Train Loss: 0.5759, Train Acc: 0.7293, Test Acc: 0.7321\n",
            "Epoch: 26, Train Loss: 0.5623, Train Acc: 0.7373, Test Acc: 0.7679\n",
            "Epoch: 27, Train Loss: 0.5612, Train Acc: 0.7293, Test Acc: 0.7321\n",
            "Epoch: 28, Train Loss: 0.5620, Train Acc: 0.7373, Test Acc: 0.7411\n",
            "Epoch: 29, Train Loss: 0.5643, Train Acc: 0.7483, Test Acc: 0.7143\n",
            "Epoch: 30, Train Loss: 0.5650, Train Acc: 0.7423, Test Acc: 0.7500\n",
            "Epoch: 31, Train Loss: 0.5443, Train Acc: 0.7413, Test Acc: 0.7321\n",
            "Epoch: 32, Train Loss: 0.5524, Train Acc: 0.7423, Test Acc: 0.7589\n",
            "Epoch: 33, Train Loss: 0.5703, Train Acc: 0.7343, Test Acc: 0.7411\n",
            "Epoch: 34, Train Loss: 0.5495, Train Acc: 0.7363, Test Acc: 0.7500\n",
            "Epoch: 35, Train Loss: 0.5603, Train Acc: 0.7313, Test Acc: 0.7232\n",
            "Epoch: 36, Train Loss: 0.5559, Train Acc: 0.7383, Test Acc: 0.7321\n",
            "Epoch: 37, Train Loss: 0.5469, Train Acc: 0.7413, Test Acc: 0.7679\n",
            "Epoch: 38, Train Loss: 0.5533, Train Acc: 0.7443, Test Acc: 0.7589\n",
            "Epoch: 39, Train Loss: 0.5455, Train Acc: 0.7403, Test Acc: 0.7232\n",
            "Epoch: 40, Train Loss: 0.5538, Train Acc: 0.7453, Test Acc: 0.7500\n",
            "Epoch: 41, Train Loss: 0.5505, Train Acc: 0.7433, Test Acc: 0.7411\n",
            "Epoch: 42, Train Loss: 0.5484, Train Acc: 0.7273, Test Acc: 0.7589\n",
            "Epoch: 43, Train Loss: 0.5480, Train Acc: 0.7423, Test Acc: 0.7054\n",
            "Epoch: 44, Train Loss: 0.5490, Train Acc: 0.7433, Test Acc: 0.7411\n",
            "Epoch: 45, Train Loss: 0.5583, Train Acc: 0.7473, Test Acc: 0.7232\n",
            "Epoch: 46, Train Loss: 0.5463, Train Acc: 0.7383, Test Acc: 0.7411\n",
            "Epoch: 47, Train Loss: 0.5394, Train Acc: 0.7393, Test Acc: 0.7232\n",
            "Epoch: 48, Train Loss: 0.5751, Train Acc: 0.7403, Test Acc: 0.7500\n",
            "Epoch: 49, Train Loss: 0.5525, Train Acc: 0.7323, Test Acc: 0.7411\n",
            "Epoch: 50, Train Loss: 0.5516, Train Acc: 0.7373, Test Acc: 0.7500\n",
            "Epoch: 51, Train Loss: 0.5368, Train Acc: 0.7493, Test Acc: 0.7589\n",
            "Epoch: 52, Train Loss: 0.5311, Train Acc: 0.7413, Test Acc: 0.7500\n",
            "Epoch: 53, Train Loss: 0.5404, Train Acc: 0.7383, Test Acc: 0.7589\n",
            "Epoch: 54, Train Loss: 0.5554, Train Acc: 0.7443, Test Acc: 0.7232\n",
            "Epoch: 55, Train Loss: 0.5553, Train Acc: 0.7403, Test Acc: 0.7321\n",
            "Epoch: 56, Train Loss: 0.5595, Train Acc: 0.7502, Test Acc: 0.7232\n",
            "Epoch: 57, Train Loss: 0.5447, Train Acc: 0.7403, Test Acc: 0.7411\n",
            "Epoch: 58, Train Loss: 0.5539, Train Acc: 0.7443, Test Acc: 0.7411\n",
            "Epoch: 59, Train Loss: 0.5552, Train Acc: 0.7433, Test Acc: 0.7321\n",
            "Epoch: 60, Train Loss: 0.5382, Train Acc: 0.7512, Test Acc: 0.7411\n",
            "Epoch: 61, Train Loss: 0.5552, Train Acc: 0.7413, Test Acc: 0.7321\n",
            "Epoch: 62, Train Loss: 0.5534, Train Acc: 0.7453, Test Acc: 0.7589\n",
            "Epoch: 63, Train Loss: 0.5407, Train Acc: 0.7473, Test Acc: 0.7232\n",
            "Epoch: 64, Train Loss: 0.5413, Train Acc: 0.7443, Test Acc: 0.7321\n",
            "Epoch: 65, Train Loss: 0.5427, Train Acc: 0.7323, Test Acc: 0.7679\n",
            "Epoch: 66, Train Loss: 0.5297, Train Acc: 0.7483, Test Acc: 0.7589\n",
            "Epoch: 67, Train Loss: 0.5589, Train Acc: 0.7393, Test Acc: 0.7589\n",
            "Epoch: 68, Train Loss: 0.5438, Train Acc: 0.7443, Test Acc: 0.7054\n",
            "Epoch: 69, Train Loss: 0.5676, Train Acc: 0.7433, Test Acc: 0.7500\n",
            "Epoch: 70, Train Loss: 0.5656, Train Acc: 0.7463, Test Acc: 0.7411\n",
            "Epoch: 71, Train Loss: 0.5489, Train Acc: 0.7403, Test Acc: 0.7679\n",
            "Epoch: 72, Train Loss: 0.5566, Train Acc: 0.7562, Test Acc: 0.7500\n",
            "Epoch: 73, Train Loss: 0.5398, Train Acc: 0.7433, Test Acc: 0.7321\n",
            "Epoch: 74, Train Loss: 0.5583, Train Acc: 0.7443, Test Acc: 0.7321\n",
            "Epoch: 75, Train Loss: 0.5581, Train Acc: 0.7403, Test Acc: 0.7321\n",
            "Epoch: 76, Train Loss: 0.5475, Train Acc: 0.7383, Test Acc: 0.7321\n",
            "Epoch: 77, Train Loss: 0.5436, Train Acc: 0.7373, Test Acc: 0.7143\n",
            "Epoch: 78, Train Loss: 0.5376, Train Acc: 0.7423, Test Acc: 0.7589\n",
            "Epoch: 79, Train Loss: 0.5435, Train Acc: 0.7313, Test Acc: 0.7411\n",
            "Epoch: 80, Train Loss: 0.5388, Train Acc: 0.7453, Test Acc: 0.7500\n",
            "Epoch: 81, Train Loss: 0.5583, Train Acc: 0.7363, Test Acc: 0.7500\n",
            "Epoch: 82, Train Loss: 0.5356, Train Acc: 0.7333, Test Acc: 0.7500\n",
            "Epoch: 83, Train Loss: 0.5328, Train Acc: 0.7423, Test Acc: 0.7679\n",
            "Epoch: 84, Train Loss: 0.5391, Train Acc: 0.7393, Test Acc: 0.7321\n",
            "Epoch: 85, Train Loss: 0.5637, Train Acc: 0.7383, Test Acc: 0.7500\n",
            "Epoch: 86, Train Loss: 0.5368, Train Acc: 0.7413, Test Acc: 0.7232\n",
            "Epoch: 87, Train Loss: 0.5311, Train Acc: 0.7473, Test Acc: 0.7321\n",
            "Epoch: 88, Train Loss: 0.5347, Train Acc: 0.7443, Test Acc: 0.7411\n",
            "Epoch: 89, Train Loss: 0.5423, Train Acc: 0.7502, Test Acc: 0.7321\n",
            "Epoch: 90, Train Loss: 0.5372, Train Acc: 0.7423, Test Acc: 0.7500\n",
            "Epoch: 91, Train Loss: 0.5583, Train Acc: 0.7443, Test Acc: 0.7500\n",
            "Epoch: 92, Train Loss: 0.5412, Train Acc: 0.7283, Test Acc: 0.7589\n",
            "Epoch: 93, Train Loss: 0.5452, Train Acc: 0.7463, Test Acc: 0.7411\n",
            "Epoch: 94, Train Loss: 0.5410, Train Acc: 0.7383, Test Acc: 0.7232\n",
            "Epoch: 95, Train Loss: 0.5334, Train Acc: 0.7463, Test Acc: 0.7500\n",
            "Epoch: 96, Train Loss: 0.5402, Train Acc: 0.7552, Test Acc: 0.7500\n",
            "Epoch: 97, Train Loss: 0.5330, Train Acc: 0.7453, Test Acc: 0.7321\n",
            "Epoch: 98, Train Loss: 0.5335, Train Acc: 0.7562, Test Acc: 0.7321\n",
            "Epoch: 99, Train Loss: 0.5386, Train Acc: 0.7493, Test Acc: 0.7411\n",
            "Epoch: 100, Train Loss: 0.5227, Train Acc: 0.7423, Test Acc: 0.7500\n"
          ]
        },
        {
          "output_type": "display_data",
          "data": {
            "text/plain": [
              "<Figure size 640x480 with 1 Axes>"
            ],
            "image/png": "[encoded data removed]"
          },
          "metadata": {}
        },
        {
          "output_type": "display_data",
          "data": {
            "text/plain": [
              "<Figure size 640x480 with 1 Axes>"
            ],
            "image/png": "[encoded data removed]"
          },
          "metadata": {}
        }
      ]
    },
    {
      "cell_type": "markdown",
      "source": [
        "## GAE Implementation of Protein "
      ],
      "metadata": {
        "id": "Iopysk9q-5Z7"
      }
    },
    {
      "cell_type": "code",
      "execution_count": null,
      "metadata": {
        "id": "l4mpj8uf_S63"
      },
      "outputs": [],
      "source": [
        "def train(model, loss_fcn, optimizer, train_dataloader, val_dataloader, num_epochs):\n",
        "    model = model.double()\n",
        "    model.train()\n",
        "\n",
        "    for epoch in range(num_epochs):\n",
        "        losses = []\n",
        "        for batch, batched_graph in enumerate(train_dataloader):\n",
        "            batched_graph, labels = batched_graph\n",
        "            logits = model(batched_graph, batched_graph.ndata['node_attr'].double())\n",
        "            loss = loss_fcn(logits, labels.T[0])\n",
        "            optimizer.zero_grad()\n",
        "            loss.backward()\n",
        "            optimizer.step()\n",
        "            losses.append(loss.item())\n",
        "        loss_data = np.mean(losses)\n",
        "\n",
        "        if epoch % 5 == 0:\n",
        "            print(\"Epoch {} | Loss: {:.4f}\".format(epoch, loss_data))\n",
        "            test(model, loss_fcn, val_dataloader)"
      ]
    },
    {
      "cell_type": "code",
      "execution_count": null,
      "metadata": {
        "id": "hGz7jdcw_S63"
      },
      "outputs": [],
      "source": [
        "def test(model, loss_fcn, dataloader):\n",
        "    scores = []\n",
        "    for batch, batched_graph in enumerate(dataloader):\n",
        "        batched_graph, labels = batched_graph\n",
        "        scores.append(\n",
        "            evaluate(model, batched_graph, labels, loss_fcn))\n",
        "    mean_scores = np.mean(scores)\n",
        "    print(\"Accuracy score: {:.4f}\".format(mean_scores))"
      ]
    },
    {
      "cell_type": "code",
      "execution_count": null,
      "metadata": {
        "id": "BzjxwyQS_S63"
      },
      "outputs": [],
      "source": [
        "def evaluate(model, batched_graph, labels, loss_fcn):\n",
        "    model = model.double()\n",
        "    model.eval()\n",
        "    with torch.no_grad():\n",
        "        output = model(batched_graph, batched_graph.ndata['node_attr'].double())\n",
        "\n",
        "    labels = labels.T[0]\n",
        "    loss = loss_fcn(output, labels)\n",
        "    predict = output.argmax(dim=1)\n",
        "    score = (labels == predict).sum().item() / len(labels)\n",
        "\n",
        "    return score"
      ]
    },
    {
      "cell_type": "code",
      "source": [
        "import torch\n",
        "import torch.nn as nn\n",
        "import torch.optim as optim\n",
        "import dgl\n",
        "from dgl.nn import GraphConv\n",
        "from sklearn.model_selection import train_test_split\n",
        "import numpy as np\n",
        "from dgl.data import TUDataset\n",
        "\n",
        "# Define GCN layer\n",
        "class GCNLayer(nn.Module):\n",
        "    def __init__(self, in_feats, out_feats):\n",
        "        super(GCNLayer, self).__init__()\n",
        "        self.gcn = GraphConv(in_feats, out_feats)\n",
        "\n",
        "    def forward(self, g, h):\n",
        "        return self.gcn(g, h)\n",
        "\n",
        "# Build the GAE encoder model\n",
        "class Encoder(nn.Module):\n",
        "    def __init__(self, in_feats, hidden_feats, out_feats):\n",
        "        super(Encoder, self).__init__()\n",
        "        self.gcn1 = GCNLayer(in_feats, hidden_feats)\n",
        "        self.gcn2 = GCNLayer(hidden_feats, out_feats)\n",
        "        self.relu = nn.ReLU()\n",
        "\n",
        "    def forward(self, g, h):\n",
        "        h = self.gcn1(g, h)\n",
        "        h = self.relu(h)\n",
        "        h = self.gcn2(g, h)\n",
        "        return h\n",
        "\n",
        "# Build the GAE decoder model\n",
        "class Decoder(nn.Module):\n",
        "    def __init__(self):\n",
        "        super(Decoder, self).__init__()\n",
        "\n",
        "    def forward(self, z):\n",
        "        z_transpose = z.t()\n",
        "        adj_pred = torch.sigmoid(torch.matmul(z, z_transpose))\n",
        "        return adj_pred\n",
        "\n",
        "# Define the training and evaluation functions\n",
        "# Define the training and evaluation functions\n",
        "def train(encoder, decoder, g, features, adj_orig, optimizer, criterion):\n",
        "    encoder.train()\n",
        "    decoder.train()\n",
        "    optimizer.zero_grad()\n",
        "\n",
        "    z = encoder(g, features)\n",
        "    adj_pred = decoder(z)\n",
        "\n",
        "    loss = criterion(adj_pred, adj_orig)\n",
        "    loss.backward()\n",
        "    optimizer.step()\n",
        "\n",
        "    return loss.item()\n",
        "\n",
        "def evaluate(encoder, decoder, g, features, adj_orig, criterion):\n",
        "    encoder.eval()\n",
        "    decoder.eval()\n",
        "\n",
        "    with torch.no_grad():\n",
        "        z = encoder(g, features)\n",
        "        adj_pred = decoder(z)\n",
        "        loss = criterion(adj_pred, adj_orig)\n",
        "\n",
        "    return loss.item()\n",
        "\n",
        "# Prepare the dataset and device\n",
        "device = torch.device('cuda' if torch.cuda.is_available() else 'cpu')\n",
        "dataset_proteins = TUDataset(name='PROTEINS')\n",
        "dataset_proteins.graph_lists = [dgl.add_self_loop(graph) for graph in dataset_proteins.graph_lists]\n",
        "\n",
        "# Set parameters\n",
        "graph, _ = dataset_proteins[0]\n",
        "num_node_features = graph.ndata['node_attr'].shape[1]\n",
        "in_feats = num_node_features\n",
        "hidden_feats = 64\n",
        "out_feats = 32\n",
        "lr = 0.01\n",
        "epochs = 100\n",
        "\n",
        "\n",
        "# Prepare the dataset\n",
        "train_dataset, test_dataset = train_test_split(dataset_proteins.graph_lists, test_size=0.1, random_state=42)\n",
        "train_graphs = [graph.to(device) for graph in train_dataset]\n",
        "test_graphs = [graph.to(device) for graph in test_dataset]\n",
        "\n",
        "# Initialize the models and optimizer\n",
        "encoder = Encoder(in_feats, hidden_feats, out_feats).to(device)\n",
        "decoder = Decoder().to(device)\n",
        "model = nn.Sequential(encoder, decoder).to(device)\n",
        "optimizer = optim.Adam(model.parameters(), lr=lr)\n",
        "criterion = nn.BCELoss()\n",
        "\n",
        "# Train and evaluate the GAE\n",
        "for epoch in range(epochs):\n",
        "    train_losses = []\n",
        "    for g in train_graphs:\n",
        "        features = g.ndata['node_attr'].float().to(device)\n",
        "        adj_orig = torch.Tensor(g.adjacency_matrix().to_dense()).to(device)\n",
        "        train_loss = train(encoder, decoder, g, features, adj_orig, optimizer, criterion)\n",
        "        train_losses.append(train_loss)\n",
        "\n",
        "    train_loss_mean = np.mean(train_losses)\n",
        "\n",
        "    test_losses = []\n",
        "    for g in test_graphs:\n",
        "        features = g.ndata['node_attr'].float().to(device)\n",
        "        adj_orig = torch.Tensor(g.adjacency_matrix().to_dense()).to(device)\n",
        "        test_loss = evaluate(encoder, decoder, g, features, adj_orig, criterion)\n",
        "        test_losses.append(test_loss)\n",
        "\n",
        "    test_loss_mean = np.mean(test_losses)\n",
        "\n",
        "    print(f'Epoch: {epoch + 1}, Train Loss: {train_loss_mean:.4f}, Test Loss: {test_loss_mean:.4f}')\n"
      ],
      "metadata": {
        "colab": {
          "base_uri": "https://localhost:8080/"
        },
        "id": "Hg4eg63rYUSC",
        "outputId": "cd75f52f-3579-40c4-ec2a-cc3655cb6c97"
      },
      "execution_count": null,
      "outputs": [
        {
          "output_type": "stream",
          "name": "stdout",
          "text": [
            "Epoch: 1, Train Loss: 0.7906, Test Loss: 0.7596\n",
            "Epoch: 2, Train Loss: 0.7302, Test Loss: 0.7337\n",
            "Epoch: 3, Train Loss: 0.7474, Test Loss: 0.7289\n",
            "Epoch: 4, Train Loss: 0.7353, Test Loss: 0.7437\n",
            "Epoch: 5, Train Loss: 0.7246, Test Loss: 0.7656\n",
            "Epoch: 6, Train Loss: 0.7494, Test Loss: 0.7335\n",
            "Epoch: 7, Train Loss: 0.7349, Test Loss: 0.7270\n",
            "Epoch: 8, Train Loss: 0.7084, Test Loss: 0.7264\n",
            "Epoch: 9, Train Loss: 0.7103, Test Loss: 0.7273\n",
            "Epoch: 10, Train Loss: 0.7105, Test Loss: 0.7288\n",
            "Epoch: 11, Train Loss: 0.7085, Test Loss: 0.7375\n",
            "Epoch: 12, Train Loss: 0.7048, Test Loss: 0.7695\n",
            "Epoch: 13, Train Loss: 0.7046, Test Loss: 0.8531\n",
            "Epoch: 14, Train Loss: 0.7150, Test Loss: 0.9180\n",
            "Epoch: 15, Train Loss: 0.7085, Test Loss: 0.9153\n",
            "Epoch: 16, Train Loss: 0.7092, Test Loss: 0.8933\n",
            "Epoch: 17, Train Loss: 0.7085, Test Loss: 0.8942\n",
            "Epoch: 18, Train Loss: 0.7085, Test Loss: 0.8869\n",
            "Epoch: 19, Train Loss: 0.7081, Test Loss: 0.9018\n",
            "Epoch: 20, Train Loss: 0.7085, Test Loss: 0.8500\n",
            "Epoch: 21, Train Loss: 0.7066, Test Loss: 0.9813\n",
            "Epoch: 22, Train Loss: 0.7127, Test Loss: 0.7551\n",
            "Epoch: 23, Train Loss: 0.7066, Test Loss: 1.1067\n",
            "Epoch: 24, Train Loss: 0.7194, Test Loss: 0.7521\n",
            "Epoch: 25, Train Loss: 0.7046, Test Loss: 1.0767\n",
            "Epoch: 26, Train Loss: 0.7176, Test Loss: 0.7317\n",
            "Epoch: 27, Train Loss: 0.7037, Test Loss: 1.0825\n",
            "Epoch: 28, Train Loss: 0.7167, Test Loss: 0.7218\n",
            "Epoch: 29, Train Loss: 0.7043, Test Loss: 0.8748\n",
            "Epoch: 30, Train Loss: 0.7075, Test Loss: 1.1680\n",
            "Epoch: 31, Train Loss: 0.7325, Test Loss: 0.7201\n",
            "Epoch: 32, Train Loss: 0.7553, Test Loss: 0.7210\n",
            "Epoch: 33, Train Loss: 0.7081, Test Loss: 0.7513\n",
            "Epoch: 34, Train Loss: 0.7036, Test Loss: 0.9100\n",
            "Epoch: 35, Train Loss: 0.7120, Test Loss: 0.7664\n",
            "Epoch: 36, Train Loss: 0.7052, Test Loss: 1.0167\n",
            "Epoch: 37, Train Loss: 0.7166, Test Loss: 0.7241\n",
            "Epoch: 38, Train Loss: 0.7034, Test Loss: 1.0872\n",
            "Epoch: 39, Train Loss: 0.7195, Test Loss: 0.7332\n",
            "Epoch: 40, Train Loss: 0.7036, Test Loss: 1.0445\n",
            "Epoch: 41, Train Loss: 0.7149, Test Loss: 0.7231\n",
            "Epoch: 42, Train Loss: 0.7040, Test Loss: 0.8743\n",
            "Epoch: 43, Train Loss: 0.7072, Test Loss: 1.0573\n",
            "Epoch: 44, Train Loss: 0.7198, Test Loss: 0.7201\n",
            "Epoch: 45, Train Loss: 0.7044, Test Loss: 0.7219\n",
            "Epoch: 46, Train Loss: 0.7424, Test Loss: 0.7239\n",
            "Epoch: 47, Train Loss: 0.7053, Test Loss: 0.7206\n",
            "Epoch: 48, Train Loss: 0.7062, Test Loss: 0.7362\n",
            "Epoch: 49, Train Loss: 0.7065, Test Loss: 0.9710\n",
            "Epoch: 50, Train Loss: 0.7141, Test Loss: 0.7210\n",
            "Epoch: 51, Train Loss: 0.7037, Test Loss: 0.9356\n",
            "Epoch: 52, Train Loss: 0.7086, Test Loss: 1.1238\n",
            "Epoch: 53, Train Loss: 0.7269, Test Loss: 0.7201\n",
            "Epoch: 54, Train Loss: 0.7390, Test Loss: 0.7205\n",
            "Epoch: 55, Train Loss: 0.7065, Test Loss: 0.8210\n",
            "Epoch: 56, Train Loss: 0.7113, Test Loss: 0.8256\n",
            "Epoch: 57, Train Loss: 0.7060, Test Loss: 1.0631\n",
            "Epoch: 58, Train Loss: 0.7186, Test Loss: 0.7206\n",
            "Epoch: 59, Train Loss: 0.7141, Test Loss: 0.7200\n",
            "Epoch: 60, Train Loss: 0.7277, Test Loss: 0.7226\n",
            "Epoch: 61, Train Loss: 0.7110, Test Loss: 0.7273\n",
            "Epoch: 62, Train Loss: 0.7044, Test Loss: 0.9256\n",
            "Epoch: 63, Train Loss: 0.7093, Test Loss: 0.8924\n",
            "Epoch: 64, Train Loss: 0.7145, Test Loss: 0.9581\n",
            "Epoch: 65, Train Loss: 0.7105, Test Loss: 0.9026\n",
            "Epoch: 66, Train Loss: 0.7086, Test Loss: 0.9410\n",
            "Epoch: 67, Train Loss: 0.7454, Test Loss: 0.8251\n",
            "Epoch: 68, Train Loss: 0.7295, Test Loss: 0.8576\n",
            "Epoch: 69, Train Loss: 0.7149, Test Loss: 0.8238\n",
            "Epoch: 70, Train Loss: 0.7058, Test Loss: 0.8785\n",
            "Epoch: 71, Train Loss: 0.7071, Test Loss: 0.8462\n",
            "Epoch: 72, Train Loss: 0.7061, Test Loss: 0.8716\n",
            "Epoch: 73, Train Loss: 0.7085, Test Loss: 0.7298\n",
            "Epoch: 74, Train Loss: 0.7076, Test Loss: 0.8562\n",
            "Epoch: 75, Train Loss: 0.7070, Test Loss: 1.1096\n",
            "Epoch: 76, Train Loss: 0.7172, Test Loss: 0.7209\n",
            "Epoch: 77, Train Loss: 0.7053, Test Loss: 0.7426\n",
            "Epoch: 78, Train Loss: 0.7037, Test Loss: 1.0472\n",
            "Epoch: 79, Train Loss: 0.7215, Test Loss: 0.7201\n",
            "Epoch: 80, Train Loss: 0.7102, Test Loss: 0.7217\n",
            "Epoch: 81, Train Loss: 0.7193, Test Loss: 0.7206\n",
            "Epoch: 82, Train Loss: 0.7027, Test Loss: 0.9113\n",
            "Epoch: 83, Train Loss: 0.7170, Test Loss: 0.7260\n",
            "Epoch: 84, Train Loss: 0.7446, Test Loss: 0.7202\n",
            "Epoch: 85, Train Loss: 0.7091, Test Loss: 0.7209\n",
            "Epoch: 86, Train Loss: 0.8127, Test Loss: 0.7249\n",
            "Epoch: 87, Train Loss: 0.7062, Test Loss: 0.7203\n",
            "Epoch: 88, Train Loss: 0.7053, Test Loss: 0.7724\n",
            "Epoch: 89, Train Loss: 0.7331, Test Loss: 1.0900\n",
            "Epoch: 90, Train Loss: 0.7205, Test Loss: 0.7466\n",
            "Epoch: 91, Train Loss: 0.7045, Test Loss: 1.0986\n",
            "Epoch: 92, Train Loss: 0.7231, Test Loss: 0.7229\n",
            "Epoch: 93, Train Loss: 0.7035, Test Loss: 1.0830\n",
            "Epoch: 94, Train Loss: 0.7256, Test Loss: 0.7245\n",
            "Epoch: 95, Train Loss: 0.7136, Test Loss: 0.7200\n",
            "Epoch: 96, Train Loss: 0.7417, Test Loss: 0.7240\n",
            "Epoch: 97, Train Loss: 0.7033, Test Loss: 0.7188\n",
            "Epoch: 98, Train Loss: 0.7090, Test Loss: 0.7437\n",
            "Epoch: 99, Train Loss: 0.7048, Test Loss: 0.9610\n",
            "Epoch: 100, Train Loss: 0.7120, Test Loss: 0.7228\n"
          ]
        }
      ]
    },
    {
      "cell_type": "code",
      "source": [],
      "metadata": {
        "id": "u4dxw-Yg-7gS"
      },
      "execution_count": null,
      "outputs": []
    }
  ]
}